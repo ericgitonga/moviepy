{
 "cells": [
  {
   "cell_type": "markdown",
   "id": "08c7e956",
   "metadata": {},
   "source": [
    "# [MoviePy](https://zulko.github.io/moviepy/index.html)"
   ]
  },
  {
   "cell_type": "code",
   "execution_count": null,
   "id": "65e02e29",
   "metadata": {},
   "outputs": [],
   "source": [
    "import moviepy.editor as mpy\n",
    "import moviepy.video.fx\n",
    "from moviepy.editor import vfx\n",
    "\n",
    "clip = mpy.VideoFileClip(\"../media/video/sample.mp4\")\n",
    "clip_duration = clip.duration + 1\n",
    "mpy.ipython_display(clip, width=300, maxduration=clip_duration)"
   ]
  },
  {
   "cell_type": "code",
   "execution_count": null,
   "id": "00fca2da",
   "metadata": {},
   "outputs": [],
   "source": [
    "clip.size, clip.aspect_ratio, clip.fps"
   ]
  },
  {
   "cell_type": "markdown",
   "id": "30bceccf",
   "metadata": {},
   "source": [
    "### Getting a sub clip from main clip"
   ]
  },
  {
   "cell_type": "code",
   "execution_count": null,
   "id": "0b479a2a",
   "metadata": {},
   "outputs": [],
   "source": [
    "clip = clip.subclip(t_start=15, t_end=25)\n",
    "mpy.ipython_display(clip, width=300)"
   ]
  },
  {
   "cell_type": "markdown",
   "id": "50fe0327",
   "metadata": {},
   "source": [
    "### Resizing a clip"
   ]
  },
  {
   "cell_type": "code",
   "execution_count": null,
   "id": "c16ffc24",
   "metadata": {},
   "outputs": [],
   "source": [
    "resized_clip = clip.resize(width=300)\n",
    "mpy.ipython_display(resized_clip)"
   ]
  },
  {
   "cell_type": "markdown",
   "id": "d1044f41",
   "metadata": {},
   "source": [
    "### Cropping a clip"
   ]
  },
  {
   "cell_type": "code",
   "execution_count": null,
   "id": "69cfa6e4",
   "metadata": {},
   "outputs": [],
   "source": [
    "cropped_clip = resized_clip.crop(x1=200,x2=450,y1=20,y2=350)\n",
    "mpy.ipython_display(cropped_clip, width=300)"
   ]
  },
  {
   "cell_type": "markdown",
   "id": "e7f2dc31",
   "metadata": {},
   "source": [
    "## Effects"
   ]
  },
  {
   "cell_type": "code",
   "execution_count": null,
   "id": "27ece060",
   "metadata": {},
   "outputs": [],
   "source": [
    "clip1 = clip.fx(vfx.mirror_x) # Mirror on x axis\n",
    "clip2 = clip.fx(vfx.mirror_y) # Mirror on y axis\n",
    "clip3 = clip.fx(vfx.rotate, 180) # Rotate 180 degrees\n",
    "clip4 = clip.fx(vfx.blackwhite) # Convert to black and white\n",
    "final_clip = mpy.clips_array([[clip1, clip2],\n",
    "                          [clip3, clip4]])\n",
    "final_clip.write_videofile(\"../media/video/effects_array.mp4\")\n",
    "clip.close()"
   ]
  }
 ],
 "metadata": {
  "kernelspec": {
   "display_name": "Python 3",
   "language": "python",
   "name": "python3"
  },
  "language_info": {
   "codemirror_mode": {
    "name": "ipython",
    "version": 3
   },
   "file_extension": ".py",
   "mimetype": "text/x-python",
   "name": "python",
   "nbconvert_exporter": "python",
   "pygments_lexer": "ipython3",
   "version": "3.8.8"
  }
 },
 "nbformat": 4,
 "nbformat_minor": 5
}
